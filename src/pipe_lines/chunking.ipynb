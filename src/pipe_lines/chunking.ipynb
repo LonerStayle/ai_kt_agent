{
 "cells": [
  {
   "cell_type": "markdown",
   "id": "83fda2dc",
   "metadata": {},
   "source": [
    "### 1. PDF 를 페이지 단위로 나누기\n",
    "### 2. 1번 작업 수행 후 청킹 작업으로 "
   ]
  },
  {
   "cell_type": "code",
   "execution_count": 8,
   "id": "129c455d",
   "metadata": {},
   "outputs": [
    {
     "name": "stdout",
     "output_type": "stream",
     "text": [
      "C:\\PythonProject\\ai_kt_agent\\src\\data\\sources.yaml\n",
      "C:\\PythonProject\\ai_kt_agent\\src\\data\\all_chunk_list.jsonl\n",
      "Parsed HiKorea Main -> 2 pages\n"
     ]
    }
   ],
   "source": [
    "\n",
    "import fitz\n",
    "import os, yaml, json\n",
    "import sys, os\n",
    "project_root = os.path.abspath(r\"C:\\PythonProject\\ai_kt_agent\") \n",
    "sys.path.append(project_root)\n",
    "from src.common import GlobalSetting\n",
    "from langchain.text_splitter import RecursiveCharacterTextSplitter\n",
    "\n",
    "# 청킹용 스플리터 (보통 자주 많이씀)\n",
    "# 교체 될수도 있음\n",
    "spliter = RecursiveCharacterTextSplitter(\n",
    "    chunk_size=500, chunk_overlap=50, separators=[\"\\n\\n\", \"\\n\", \" \", \"\"]\n",
    ")\n",
    "\n",
    "\n",
    "# 일단 pdf 기준으로 했습니다. \n",
    "def chunk_pdf(filepath:\n",
    "               str, source_name: str,\n",
    "               year: int = None,\n",
    "                lang: str = \"en\"):\n",
    "    \n",
    "\n",
    "    docs = []\n",
    "    # 파일을 오픈해봅니다.\n",
    "    try:\n",
    "        doc = fitz.open(filepath)\n",
    "    except Exception as e:\n",
    "        print(f\"열기 실패 {filepath}: {e}\")\n",
    "        return docs\n",
    "\n",
    "    # 각 페이지의 텍스트와 페이지 넘버수 추출 \n",
    "    # 나중에 어떤  document 를 참고했는지 확인하기 위해 페이지 넘버 넣었어요\n",
    "    for page_num, page in enumerate(doc, start=1):\n",
    "        text = page.get_text()\n",
    "        if not text: continue\n",
    "\n",
    "    chunks = spliter.split_text(text)\n",
    "    for i, chunk in enumerate(chunks, start=1):\n",
    "        docs.append(\n",
    "            {\n",
    "                \"text\": chunk,\n",
    "                \"page\": page_num,\n",
    "                \"chunk_id\": f\"{page_num}_{i}\",\n",
    "                \"source\": os.path.basename(filepath),\n",
    "                \"name\": source_name,\n",
    "                \"year\": year,\n",
    "                \"lang\": lang,\n",
    "            }\n",
    "        )\n",
    "    \n",
    "    return docs\n",
    "\n",
    "SOURCE_FILE = os.path.join(GlobalSetting.DATA_DIR, \"sources.yaml\")\n",
    "OUTPUT_FILE = os.path.join(GlobalSetting.DATA_DIR, \"all_chunk_list.jsonl\")\n",
    "\n",
    "print(SOURCE_FILE)\n",
    "print(OUTPUT_FILE)\n",
    "# /data/sources.yaml를 찾아서 config 객체화 시킴 \n",
    "with open(SOURCE_FILE,\"r\",encoding=\"utf-8\") as f:\n",
    "    config = yaml.safe_load(f)\n",
    "\n",
    "# config의 sources 를 꺼내와서 사용한다. 이 sources 는 pdf 경로를 뜻하며 동시에 메타데이터 담기용임 \n",
    "all_docs = []\n",
    "for src in config[\"sources\"]:\n",
    "    filepath = os.path.join(GlobalSetting.DATA_DIR, src[\"file\"])  # 경로 생성\n",
    "\n",
    "    if not os.path.exists(filepath):\n",
    "        print(f\"File not found: {filepath}\")\n",
    "        continue\n",
    "\n",
    "    # source 내용의 pdf 가 있다면 청킹의 메타데이터 넘기기\n",
    "    if src[\"type\"] == \"pdf\":\n",
    "        docs = chunk_pdf(filepath, src[\"name\"], src.get(\"year\"), src.get(\"lang\",\"en\"))\n",
    "        all_docs.extend(docs)\n",
    "        print(f\"Parsed {src['name']} -> {len(docs)} pages\")\n",
    "\n",
    "# 청킹에서 추출된 문서들을 세그먼트라고 해요. -> 세그먼트 추출해서 전체 저장 \n",
    "with open(OUTPUT_FILE, \"w\", encoding=\"utf-8\") as f:\n",
    "    for d in all_docs:\n",
    "        f.write(json.dumps(d,ensure_ascii=False) + \"\\n\")\n",
    "\n"
   ]
  },
  {
   "cell_type": "code",
   "execution_count": null,
   "id": "9f1b3079",
   "metadata": {},
   "outputs": [],
   "source": []
  },
  {
   "cell_type": "code",
   "execution_count": null,
   "id": "59142155",
   "metadata": {},
   "outputs": [],
   "source": []
  }
 ],
 "metadata": {
  "kernelspec": {
   "display_name": "ai_kt_agent",
   "language": "python",
   "name": "python3"
  },
  "language_info": {
   "codemirror_mode": {
    "name": "ipython",
    "version": 3
   },
   "file_extension": ".py",
   "mimetype": "text/x-python",
   "name": "python",
   "nbconvert_exporter": "python",
   "pygments_lexer": "ipython3",
   "version": "3.11.0"
  }
 },
 "nbformat": 4,
 "nbformat_minor": 5
}
